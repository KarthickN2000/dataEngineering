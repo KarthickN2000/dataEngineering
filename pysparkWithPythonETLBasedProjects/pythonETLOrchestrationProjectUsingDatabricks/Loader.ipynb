{
 "cells": [
  {
   "cell_type": "code",
   "execution_count": 0,
   "metadata": {
    "application/vnd.databricks.v1+cell": {
     "cellMetadata": {
      "byteLimit": 2048000,
      "rowLimit": 10000
     },
     "inputWidgets": {},
     "nuid": "8da79c63-4b17-4acd-a20d-aeaf3264ba77",
     "showTitle": false,
     "tableResultSettingsMap": {},
     "title": ""
    }
   },
   "outputs": [],
   "source": [
    "%run \"./Loaderfactory\""
   ]
  },
  {
   "cell_type": "code",
   "execution_count": 0,
   "metadata": {
    "application/vnd.databricks.v1+cell": {
     "cellMetadata": {
      "byteLimit": 2048000,
      "rowLimit": 10000
     },
     "inputWidgets": {},
     "nuid": "f3e5b888-a26f-4227-83c2-9d31b3524239",
     "showTitle": false,
     "tableResultSettingsMap": {},
     "title": ""
    }
   },
   "outputs": [],
   "source": [
    "class Loader:\n",
    "    def __init__(self,transformeddf):\n",
    "        self.transformeddf = transformeddf\n",
    "\n",
    "    def execute(self):\n",
    "        pass\n",
    "\n",
    "class AirpodsAfteriPhone(Loader):\n",
    "\n",
    "    def execute(self):\n",
    "        getLoaderfactory(\n",
    "            loadtype = 'dbfs',\n",
    "            df = self.transformeddf,\n",
    "            path = \"dbfs:/FileStore\",\n",
    "            method = 'overwrite'\n",
    "        ).loadDataframe()\n",
    "class AirpodsAndIphoneLoader(Loader):\n",
    "    def execute(self):\n",
    "        parameter = {\n",
    "            \"partitionByParams\":[\"location\"]\n",
    "        }\n",
    "        getLoaderfactory(\n",
    "            loadtype = \"delta\",\n",
    "            df = self.transformeddf,\n",
    "            path = \"default.onlyAirpodsandiphone\",\n",
    "            method = \"overwrite\",\n",
    "            \n",
    "        ).loadDataframe()"
   ]
  }
 ],
 "metadata": {
  "application/vnd.databricks.v1+notebook": {
   "computePreferences": null,
   "dashboards": [],
   "environmentMetadata": {
    "base_environment": "",
    "environment_version": "1"
   },
   "inputWidgetPreferences": null,
   "language": "python",
   "notebookMetadata": {
    "pythonIndentUnit": 4
   },
   "notebookName": "Loader",
   "widgets": {}
  }
 },
 "nbformat": 4,
 "nbformat_minor": 0
}