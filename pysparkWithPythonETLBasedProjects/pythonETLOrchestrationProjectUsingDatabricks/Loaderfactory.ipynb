{
 "cells": [
  {
   "cell_type": "code",
   "execution_count": 0,
   "metadata": {
    "application/vnd.databricks.v1+cell": {
     "cellMetadata": {
      "byteLimit": 2048000,
      "rowLimit": 10000
     },
     "inputWidgets": {},
     "nuid": "0703a9e0-5b0b-419d-9335-e808a976e24e",
     "showTitle": false,
     "tableResultSettingsMap": {},
     "title": ""
    }
   },
   "outputs": [],
   "source": [
    "class Loaderfactory:\n",
    "    def __init__(self,df,path,method,params):\n",
    "        self.df = df\n",
    "        self.path = path\n",
    "        self.method = method\n",
    "        self.params = params\n",
    "\n",
    "    def loadDataframe(self):\n",
    "        \"\"\"\n",
    "            Abstract method \n",
    "            function will be defined in subclasses\n",
    "        \"\"\"\n",
    "        \n",
    "        raise ValueError(\"Not implemented\")\n",
    "\n",
    "class LoadTodbfs(Loaderfactory):\n",
    "    def loadDataframe(self):\n",
    "        self.df.write\\\n",
    "                .format('parquet')\\\n",
    "                .mode(self.method)\\\n",
    "                .save(self.path)\\\n",
    "\n",
    "class LoadTodbfsWithPartition(Loaderfactory):\n",
    "    def loadDataframe(self):\n",
    "        partitionByColumns = self.params.get(\"partitionByParams\")\n",
    "\n",
    "        self.df.write\\\n",
    "                .format('parquet')\\\n",
    "                .mode(self.method)\\\n",
    "                .partitionBy(*partitionByColumns)\\\n",
    "                .save(self.path)\n",
    "\n",
    "class LoadToDeltaTable(Loaderfactory):\n",
    "    def loadDataframe(self):\n",
    "\n",
    "        self.df.write\\\n",
    "                .format(\"delta\")\\\n",
    "                .mode(self.method)\\\n",
    "                .saveAsTable(self.path)\n",
    "\n",
    "def getLoaderfactory(loadtype,df,path,method,params = None):\n",
    "\n",
    "    if(loadtype == 'dbfs'):\n",
    "        return LoadTodbfs(df,path,method,params)\n",
    "    elif(loadtype == 'dbfs_with_partition'):\n",
    "        return LoadTodbfsWithPartition(df,path,method,params)\n",
    "    elif(loadtype == 'delta'):\n",
    "        return LoadToDeltaTable(df,path,method,params)\n",
    "    else:\n",
    "        return ValueError (f\"Not implemented for Loadtype : {loadtype}\")\n"
   ]
  }
 ],
 "metadata": {
  "application/vnd.databricks.v1+notebook": {
   "computePreferences": null,
   "dashboards": [],
   "environmentMetadata": {
    "base_environment": "",
    "environment_version": "1"
   },
   "inputWidgetPreferences": null,
   "language": "python",
   "notebookMetadata": {
    "pythonIndentUnit": 4
   },
   "notebookName": "Loaderfactory",
   "widgets": {}
  }
 },
 "nbformat": 4,
 "nbformat_minor": 0
}